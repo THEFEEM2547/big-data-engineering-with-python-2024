{
 "cells": [
  {
   "cell_type": "code",
   "execution_count": 1,
   "metadata": {},
   "outputs": [
    {
     "name": "stderr",
     "output_type": "stream",
     "text": [
      "c:\\Users\\Vivobook\\AppData\\Local\\Programs\\Python\\Python310\\lib\\site-packages\\fuzzywuzzy\\fuzz.py:11: UserWarning: Using slow pure-python SequenceMatcher. Install python-Levenshtein to remove this warning\n",
      "  warnings.warn('Using slow pure-python SequenceMatcher. Install python-Levenshtein to remove this warning')\n"
     ]
    }
   ],
   "source": [
    "import pandas as pd\n",
    "import cassandra\n",
    "import re\n",
    "import os\n",
    "import glob\n",
    "import numpy as np\n",
    "import json\n",
    "import csv\n",
    "import matplotlib.pyplot as plt\n",
    "from cassandra.cluster import Cluster\n",
    "import requests\n",
    "from fuzzywuzzy import fuzz\n",
    "from collections import defaultdict\n",
    "from fuzzywuzzy import process\n",
    "from nltk.tokenize import word_tokenize\n",
    "from settrade_v2 import Investor\n",
    "from pprint import pprint\n",
    "from settrade_v2 import Investor\n",
    "from datetime import datetime "
   ]
  },
  {
   "cell_type": "code",
   "execution_count": 2,
   "metadata": {},
   "outputs": [],
   "source": [
    "cluster = Cluster(['127.0.0.1']) \n",
    "session = cluster.connect()"
   ]
  },
  {
   "cell_type": "code",
   "execution_count": null,
   "metadata": {},
   "outputs": [
    {
     "name": "stdout",
     "output_type": "stream",
     "text": [
      "Keyspace 'settrade_api ' ถูกสร้างและใช้งานเรียบร้อย!\n"
     ]
    }
   ],
   "source": [
    "# สร้าง Keyspace หากยังไม่มี\n",
    "session.execute(\"\"\"\n",
    "    CREATE KEYSPACE IF NOT EXISTS settrade_api \n",
    "    WITH replication = {'class': 'SimpleStrategy', 'replication_factor': 1}\n",
    "\"\"\")\n",
    "\n",
    "# ใช้ Keyspace ที่สร้างขึ้น\n",
    "session.set_keyspace('settrade_api')\n",
    "\n",
    "print(\"Keyspace 'settrade_api ' ถูกสร้างและใช้งานเรียบร้อย!\")"
   ]
  },
  {
   "cell_type": "code",
   "execution_count": null,
   "metadata": {},
   "outputs": [],
   "source": [
    "investor = Investor(\n",
    "                    app_id=\"c5qta5OYvnmCP3Oz\",\n",
    "                    app_secret=\"AI/1vJ5OUqX9r0hSlAKl/8wcKwzhmO7G3aW/AF6yKSdK\",\n",
    "                    broker_id=\"SANDBOX\",\n",
    "                    app_code=\"SANDBOX\",\n",
    "                    is_auto_queue = False)"
   ]
  },
  {
   "cell_type": "code",
   "execution_count": null,
   "metadata": {},
   "outputs": [
    {
     "name": "stdout",
     "output_type": "stream",
     "text": [
      "{'lastSequence': 0, 'time': [1742144400], 'open': [146.0], 'high': [147.0], 'low': [144.5], 'close': [144.5], 'volume': [9769807], 'value': [1418735868.5]}\n"
     ]
    }
   ],
   "source": [
    "# กรณี Investor\n",
    "market = investor.MarketData()\n",
    "\n",
    "\n",
    "res = market.get_candlestick(\n",
    "    symbol=\"BBL\",\n",
    "    interval=\"1d\",\n",
    "    limit=1,\n",
    "    normalized=True,\n",
    ")\n",
    "\n",
    "print(res)"
   ]
  },
  {
   "cell_type": "code",
   "execution_count": null,
   "metadata": {},
   "outputs": [
    {
     "name": "stdout",
     "output_type": "stream",
     "text": [
      "{'lastSequence': 0, 'time': [1742144400], 'open': [146.0], 'high': [147.0], 'low': [144.5], 'close': [144.5], 'volume': [9769807], 'value': [1418735868.5]}\n",
      "<class 'dict'>\n"
     ]
    }
   ],
   "source": [
    "print(res)\n",
    "print(type(res))"
   ]
  },
  {
   "cell_type": "code",
   "execution_count": null,
   "metadata": {},
   "outputs": [
    {
     "name": "stdout",
     "output_type": "stream",
     "text": [
      "✅ Keyspace และ Table พร้อมใช้งาน!\n",
      "✅ เพิ่มข้อมูล 10 รายการของหุ้น BBL สำเร็จ!\n"
     ]
    }
   ],
   "source": [
    "# 👉 เชื่อมต่อ Cassandra\n",
    "cluster = Cluster(['127.0.0.1'])  # Localhost\n",
    "session = cluster.connect()\n",
    "\n",
    "# 👉 เลือกใช้ Keyspace\n",
    "session.set_keyspace('settrade_api')\n",
    "\n",
    "# 👉 ตรวจสอบและสร้างตาราง (ถ้ายังไม่มี)\n",
    "session.execute(\"\"\"\n",
    "    CREATE TABLE IF NOT EXISTS candlestick_data (\n",
    "        symbol TEXT,\n",
    "        time TIMESTAMP PRIMARY KEY,\n",
    "        open_price FLOAT,\n",
    "        high_price FLOAT,\n",
    "        low_price FLOAT,\n",
    "        close_price FLOAT,\n",
    "        volume INT,\n",
    "        value FLOAT\n",
    "    )\n",
    "\"\"\")\n",
    "print(\"✅ Keyspace และ Table พร้อมใช้งาน!\")\n",
    "\n",
    "# 👉 ฟังก์ชันดึงข้อมูลหุ้น\n",
    "def fetch_and_store_stock(symbol=\"BBL\", interval=\"1d\", limit=10):\n",
    "    res = market.get_candlestick(symbol=symbol, interval=interval, limit=limit, normalized=True)\n",
    "\n",
    "    if not res:\n",
    "        print(f\"⚠️ ไม่พบข้อมูลสำหรับ {symbol}\")\n",
    "        return\n",
    "\n",
    "    for i in range(len(res[\"time\"])):\n",
    "        timestamp = datetime.fromtimestamp(res[\"time\"][i])  \n",
    "        open_price = res[\"open\"][i]\n",
    "        high_price = res[\"high\"][i]\n",
    "        low_price = res[\"low\"][i]\n",
    "        close_price = res[\"close\"][i]\n",
    "        volume = res[\"volume\"][i]\n",
    "        value = res[\"value\"][i]\n",
    "\n",
    "        session.execute(\"\"\"\n",
    "            INSERT INTO candlestick_data (symbol, time, open_price, high_price, low_price, close_price, volume, value)\n",
    "            VALUES (%s, %s, %s, %s, %s, %s, %s, %s)\n",
    "        \"\"\", (symbol, timestamp, open_price, high_price, low_price, close_price, volume, value))\n",
    "\n",
    "    print(f\"✅ เพิ่มข้อมูล {len(res['time'])} รายการของหุ้น {symbol} สำเร็จ!\")\n",
    "\n",
    "# 👉 ทดสอบดึงข้อมูลหุ้น BBL\n",
    "fetch_and_store_stock(symbol=\"BBL\", interval=\"1d\", limit=10)"
   ]
  },
  {
   "cell_type": "code",
   "execution_count": null,
   "metadata": {},
   "outputs": [
    {
     "name": "stdout",
     "output_type": "stream",
     "text": [
      "📌 ตารางที่อยู่ใน Keyspace 'stock_data':\n",
      "\n",
      "📌 โครงสร้างของตาราง 'candlestick_data':\n"
     ]
    }
   ],
   "source": [
    "from cassandra.cluster import Cluster\n",
    "\n",
    "# 👉 เชื่อมต่อ Cassandra\n",
    "cluster = Cluster(['127.0.0.1'])  # ถ้าเป็น localhost\n",
    "session = cluster.connect()\n",
    "\n",
    "# 👉 เลือก Keyspace\n",
    "session.set_keyspace('settrade_api')\n",
    "\n",
    "# 👉 ดึงรายชื่อตารางทั้งหมดใน Keyspace\n",
    "rows = session.execute(\"SELECT table_name FROM system_schema.tables WHERE keyspace_name = 'stock_data'\")\n",
    "\n",
    "print(\"📌 ตารางที่อยู่ใน Keyspace 'stock_data':\")\n",
    "for row in rows:\n",
    "    print(\"-\", row.table_name)\n",
    "\n",
    "# 👉 เช็คโครงสร้างของตาราง candlestick_data\n",
    "table_info = session.execute(\"SELECT * FROM system_schema.columns WHERE keyspace_name = 'stock_data' AND table_name = 'candlestick_data'\")\n",
    "\n",
    "print(\"\\n📌 โครงสร้างของตาราง 'candlestick_data':\")\n",
    "for column in table_info:\n",
    "    print(\"-\", column.column_name, column.type)"
   ]
  },
  {
   "cell_type": "code",
   "execution_count": null,
   "metadata": {},
   "outputs": [
    {
     "name": "stdout",
     "output_type": "stream",
     "text": [
      "❌ เกิดข้อผิดพลาดในการดึงข้อมูลของหุ้น 24CS: The access token is invalid or has expired\n",
      "❌ เกิดข้อผิดพลาดในการดึงข้อมูลของหุ้น 2S: The access token is invalid or has expired\n",
      "❌ เกิดข้อผิดพลาดในการดึงข้อมูลของหุ้น 3BBIF: The access token is invalid or has expired\n",
      "❌ เกิดข้อผิดพลาดในการดึงข้อมูลของหุ้น A: The access token is invalid or has expired\n",
      "❌ เกิดข้อผิดพลาดในการดึงข้อมูลของหุ้น A5: The access token is invalid or has expired\n",
      "❌ เกิดข้อผิดพลาดในการดึงข้อมูลของหุ้น AAI: The access token is invalid or has expired\n"
     ]
    },
    {
     "ename": "KeyboardInterrupt",
     "evalue": "",
     "output_type": "error",
     "traceback": [
      "\u001b[1;31m---------------------------------------------------------------------------\u001b[0m",
      "\u001b[1;31mKeyboardInterrupt\u001b[0m                         Traceback (most recent call last)",
      "Cell \u001b[1;32mIn[36], line 53\u001b[0m\n\u001b[0;32m     50\u001b[0m \u001b[38;5;28;01mfor\u001b[39;00m symbol \u001b[38;5;129;01min\u001b[39;00m symbols:\n\u001b[0;32m     52\u001b[0m     insert_financial_data(symbol)\n\u001b[1;32m---> 53\u001b[0m     \u001b[43mtime\u001b[49m\u001b[38;5;241;43m.\u001b[39;49m\u001b[43msleep\u001b[49m\u001b[43m(\u001b[49m\u001b[38;5;241;43m2\u001b[39;49m\u001b[43m)\u001b[49m  \u001b[38;5;66;03m# ⏳ ควบคุม API Rate Limit\u001b[39;00m\n",
      "\u001b[1;31mKeyboardInterrupt\u001b[0m: "
     ]
    }
   ],
   "source": [
    "import pandas as pd\n",
    "import time\n",
    "\n",
    "# ✅ โหลดรายชื่อหุ้นทั้งหมดจากไฟล์ CSV\n",
    "try:\n",
    "    symbols_df = pd.read_csv(\"thai_stocks (1).csv\")  # ไฟล์ต้องมีคอลัมน์ 'symbol'\n",
    "    symbols = symbols_df['symbol'].dropna().tolist()\n",
    "except FileNotFoundError:\n",
    "    print(\"❌ ไม่พบไฟล์ 'thai_stocks.csv' ใช้รายชื่อหุ้นที่กำหนดแทน\")\n",
    "    symbols = [\"PTT\", \"AOT\", \"SCB\", \"CPALL\", \"ADVANC\"]\n",
    "\n",
    "# ✅ ฟังก์ชันที่ดึงข้อมูล Financial Data สำหรับหุ้นแต่ละตัว\n",
    "def insert_financial_data(symbol):\n",
    "    try:\n",
    "        # 👉 ดึงข้อมูลจาก Settrade API หรือแหล่งข้อมูลอื่น ๆ\n",
    "        res = market.get_candlestick(symbol=symbol, interval=\"1d\", limit=10, normalized=True)\n",
    "\n",
    "        if not res:\n",
    "            print(f\"⚠️ ไม่พบข้อมูลสำหรับ {symbol}\")\n",
    "            return\n",
    "\n",
    "        # 👉 เชื่อมต่อ Cassandra (หรือฐานข้อมูลอื่น ๆ)\n",
    "        from cassandra.cluster import Cluster\n",
    "        cluster = Cluster(['127.0.0.1'])  # ถ้าเป็น localhost\n",
    "        session = cluster.connect()\n",
    "        session.set_keyspace('settrade_api')\n",
    "\n",
    "        # 👉 วนลูปเก็บข้อมูล\n",
    "        for i in range(len(res[\"time\"])):\n",
    "            timestamp = datetime.fromtimestamp(res[\"time\"][i])  \n",
    "            open_price = res[\"open\"][i]\n",
    "            high_price = res[\"high\"][i]\n",
    "            low_price = res[\"low\"][i]\n",
    "            close_price = res[\"close\"][i]\n",
    "            volume = res[\"volume\"][i]\n",
    "            value = res[\"value\"][i]\n",
    "\n",
    "            # 👉 แทรกข้อมูลลงในตาราง\n",
    "            session.execute(\"\"\"\n",
    "                INSERT INTO candlestick_data (symbol, time, open_price, high_price, low_price, close_price, volume, value)\n",
    "                VALUES (%s, %s, %s, %s, %s, %s, %s, %s)\n",
    "            \"\"\", (symbol, timestamp, open_price, high_price, low_price, close_price, volume, value))\n",
    "\n",
    "        print(f\"✅ เพิ่มข้อมูล {len(res['time'])} รายการของหุ้น {symbol} สำเร็จ!\")\n",
    "\n",
    "    except Exception as e:     \n",
    "        print(f\"❌ เกิดข้อผิดพลาดในการดึงข้อมูลของหุ้น {symbol}: {e}\")\n",
    "\n",
    "# ✅ ดึงข้อมูล Financial Data สำหรับหุ้นทุกตัว\n",
    "for symbol in symbols:\n",
    "    \n",
    "    insert_financial_data(symbol)\n",
    "    time.sleep(2)  # ⏳ ควบคุม API Rate Limit"
   ]
  },
  {
   "cell_type": "code",
   "execution_count": 25,
   "metadata": {},
   "outputs": [
    {
     "name": "stdout",
     "output_type": "stream",
     "text": [
      "        time  open_price  high_price  low_price  close_price\n",
      "0 2023-05-17        0.22        0.36       0.21         0.33\n",
      "1 2023-05-15        0.46        0.47       0.41         0.41\n",
      "2 2023-05-10        0.47        0.48       0.45         0.48\n",
      "3 2023-05-09        0.47        0.48       0.46         0.48\n",
      "4 2023-05-03        0.39        0.44       0.39         0.44\n",
      "5 2023-05-12        0.50        0.50       0.46         0.48\n",
      "6 2023-05-16        0.35        0.38       0.29         0.29\n",
      "7 2023-05-11        0.47        0.49       0.46         0.49\n",
      "8 2023-05-02        0.40        0.43       0.39         0.41\n",
      "9 2023-05-08        0.41        0.50       0.41         0.48\n"
     ]
    }
   ],
   "source": [
    "from cassandra.cluster import Cluster\n",
    "import pandas as pd\n",
    "\n",
    "# เชื่อมต่อกับ Cassandra\n",
    "cluster = Cluster(['127.0.0.1'])  # ระบุ IP ของ Cassandra node ที่คุณใช้งาน\n",
    "session = cluster.connect('settrade_api')  # เปลี่ยนเป็น keyspace ของคุณ\n",
    "\n",
    "# สั่งเลือกข้อมูลจากตาราง candlestick_data\n",
    "symbol = \"ACAP\"\n",
    "query = f\"SELECT time, open_price, high_price, low_price, close_price FROM candlestick_data WHERE symbol = '{symbol}' ALLOW FILTERING;\"\n",
    "\n",
    "# ดึงข้อมูลจาก Cassandra\n",
    "rows = session.execute(query)\n",
    "\n",
    "# สร้าง DataFrame จากผลลัพธ์\n",
    "data = []\n",
    "for row in rows:\n",
    "    data.append({\n",
    "        \"time\": row.time,\n",
    "        \"open_price\": row.open_price,\n",
    "        \"high_price\": row.high_price,\n",
    "        \"low_price\": row.low_price,\n",
    "        \"close_price\": row.close_price\n",
    "    })\n",
    "\n",
    "df = pd.DataFrame(data)\n",
    "\n",
    "# แสดง DataFrame\n",
    "print(df)"
   ]
  }
 ],
 "metadata": {
  "kernelspec": {
   "display_name": "Python 3",
   "language": "python",
   "name": "python3"
  },
  "language_info": {
   "codemirror_mode": {
    "name": "ipython",
    "version": 3
   },
   "file_extension": ".py",
   "mimetype": "text/x-python",
   "name": "python",
   "nbconvert_exporter": "python",
   "pygments_lexer": "ipython3",
   "version": "3.10.2"
  }
 },
 "nbformat": 4,
 "nbformat_minor": 2
}
